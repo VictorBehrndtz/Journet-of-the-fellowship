{
  "cells": [
    {
      "cell_type": "markdown",
      "metadata": {
        "id": "view-in-github",
        "colab_type": "text"
      },
      "source": [
        "<a href=\"https://colab.research.google.com/github/VictorBehrndtz/Journet-of-the-fellowship/blob/main/MNIST.ipynb\" target=\"_parent\"><img src=\"https://colab.research.google.com/assets/colab-badge.svg\" alt=\"Open In Colab\"/></a>"
      ]
    },
    {
      "cell_type": "markdown",
      "metadata": {
        "id": "ZsNVbZd403P8"
      },
      "source": [
        "The MNIST dataset is a dataset of 60,000 28x28 grayscale images of the digits from 0 to 9, along with a test set of 10,000 images."
      ]
    },
    {
      "cell_type": "code",
      "execution_count": null,
      "metadata": {
        "id": "lvh5fR_a-Z1A"
      },
      "outputs": [],
      "source": [
        "import tensorflow as tf\n",
        "from tensorflow.keras import datasets, layers, models\n",
        "import matplotlib.pyplot as plt\n",
        "import keras\n",
        "from keras.models import Model\n",
        "from keras.layers import Dense, Input\n",
        "from keras.layers import Conv2D, MaxPooling2D, Dropout, Flatten\n",
        "from keras import backend as k"
      ]
    },
    {
      "cell_type": "markdown",
      "metadata": {
        "id": "slddIgxN_ekJ"
      },
      "source": [
        "Test data: Used for testing the model that how our model has been trained. \n",
        "Train data: Used to train our model."
      ]
    },
    {
      "cell_type": "code",
      "execution_count": null,
      "metadata": {
        "id": "wMbUMt-L-cLK"
      },
      "outputs": [],
      "source": [
        "(x_train, y_train), (x_test, y_test) = keras.datasets.mnist.load_data()"
      ]
    },
    {
      "cell_type": "markdown",
      "metadata": {
        "id": "kH154_4RFE2n"
      },
      "source": [
        "x_train: int32 NumPy array of grayscale image data with shapes (60000, 28, 28) containing the training data. Pixel values range from 0 to 255\n",
        "\n",
        "y_train: int32 Numpy array of digit labelss(integers in range 0-9) with shape (60000,)\n",
        "\n",
        "x_test: NumPy array of grayscale image data with shapes (10000, 28, 28), containing the test data. Pixel values range from 0 to 255.\n",
        "\n",
        "y_test: NumPy array of digit labels (integers in range 0-9) with shape (10000,) for the test data."
      ]
    },
    {
      "cell_type": "code",
      "execution_count": null,
      "metadata": {
        "id": "Tq1ebR7E_fPy"
      },
      "outputs": [],
      "source": [
        "img_rows, img_cols=28, 28\n",
        " \n",
        "if k.image_data_format() == 'channels_first':\n",
        "   x_train = x_train.reshape(x_train.shape[0], 1, img_rows, img_cols)\n",
        "   x_test = x_test.reshape(x_test.shape[0], 1, img_rows, img_cols)\n",
        "   inpx = (1, img_rows, img_cols)\n",
        " \n",
        "else:\n",
        "   x_train = x_train.reshape(x_train.shape[0], img_rows, img_cols, 1)\n",
        "   x_test = x_test.reshape(x_test.shape[0], img_rows, img_cols, 1)\n",
        "   inpx = (img_rows, img_cols, 1)\n",
        " \n",
        "x_train = x_train.astype('float32')\n",
        "x_test = x_test.astype('float32')\n",
        "x_train /= 255\n",
        "x_test /= 255"
      ]
    },
    {
      "cell_type": "markdown",
      "metadata": {
        "id": "zQVlFz3_GpLC"
      },
      "source": [
        "Verify the data"
      ]
    },
    {
      "cell_type": "code",
      "execution_count": null,
      "metadata": {
        "colab": {
          "base_uri": "https://localhost:8080/",
          "height": 329
        },
        "id": "ciqflNZtGrB5",
        "outputId": "6bf1dfb7-6a26-4896-f441-feafb5dce61e"
      },
      "outputs": [
        {
          "data": {
            "image/png": "[encoded data removed]",
            "text/plain": [
              "<Figure size 1000x1000 with 10 Axes>"
            ]
          },
          "metadata": {},
          "output_type": "display_data"
        }
      ],
      "source": [
        "class_name = ['0', '1', '2', '3', '4', '5', '6', '7', '8', '9']\n",
        "plt.figure(figsize=(10,10))\n",
        "for i in range(10):\n",
        "    plt.subplot(5,5,i+1)\n",
        "    plt.xticks([])\n",
        "    plt.yticks([])\n",
        "    plt.grid(False)\n",
        "    plt.imshow(train_images[i])\n",
        "    # The CIFAR labels happen to be arrays, \n",
        "    # which is why you need the extra index\n",
        "plt.show()"
      ]
    },
    {
      "cell_type": "code",
      "execution_count": null,
      "metadata": {
        "id": "bbntbwPnL67X"
      },
      "outputs": [],
      "source": [
        "y_train = keras.utils.to_categorical(y_train)\n",
        "y_test = keras.utils.to_categorical(y_test)"
      ]
    },
    {
      "cell_type": "markdown",
      "metadata": {
        "id": "em4TMiITHRKg"
      },
      "source": [
        "Create convolutional base"
      ]
    },
    {
      "cell_type": "code",
      "execution_count": null,
      "metadata": {
        "id": "LZEaeEWPHThG"
      },
      "outputs": [],
      "source": [
        "\n",
        "inpx = Input(shape=inpx)\n",
        "layer1 = Conv2D(32, kernel_size=(3, 3), activation='relu')(inpx)\n",
        "layer2 = Conv2D(64, (3, 3), activation='relu')(layer1)\n",
        "layer3 = MaxPooling2D(pool_size=(3, 3))(layer2)\n",
        "layer4 = Dropout(0.5)(layer3)\n",
        "layer5 = Flatten()(layer4)\n",
        "layer6 = Dense(250, activation='sigmoid')(layer5)\n",
        "layer7 = Dense(10, activation='softmax')(layer6)"
      ]
    },
    {
      "cell_type": "markdown",
      "metadata": {
        "id": "luawvX5HIvc6"
      },
      "source": []
    },
    {
      "cell_type": "code",
      "execution_count": null,
      "metadata": {
        "colab": {
          "background_save": true,
          "base_uri": "https://localhost:8080/"
        },
        "id": "5t4-jnxHI5Zz",
        "outputId": "242d5386-a584-4abc-c6d1-477d0a634d7d"
      },
      "outputs": [
        {
          "name": "stdout",
          "output_type": "stream",
          "text": [
            "Epoch 1/12\n",
            "120/120 [==============================] - 164s 1s/step - loss: 2.3115 - accuracy: 0.1057\n",
            "Epoch 2/12\n",
            "120/120 [==============================] - 163s 1s/step - loss: 2.2831 - accuracy: 0.1508\n",
            "Epoch 3/12\n",
            "120/120 [==============================] - 162s 1s/step - loss: 1.6312 - accuracy: 0.6140\n",
            "Epoch 4/12\n",
            "120/120 [==============================] - 162s 1s/step - loss: 0.7665 - accuracy: 0.7790\n",
            "Epoch 5/12\n",
            "120/120 [==============================] - 162s 1s/step - loss: 0.5957 - accuracy: 0.8140\n",
            "Epoch 6/12\n",
            "120/120 [==============================] - 161s 1s/step - loss: 0.5402 - accuracy: 0.8290\n",
            "Epoch 7/12\n",
            "120/120 [==============================] - 163s 1s/step - loss: 0.5057 - accuracy: 0.8384\n",
            "Epoch 8/12\n",
            "120/120 [==============================] - 162s 1s/step - loss: 0.4814 - accuracy: 0.8465\n",
            "Epoch 9/12\n",
            "120/120 [==============================] - 161s 1s/step - loss: 0.4634 - accuracy: 0.8527\n",
            "Epoch 10/12\n",
            "120/120 [==============================] - 162s 1s/step - loss: 0.4413 - accuracy: 0.8581\n",
            "Epoch 11/12\n",
            "120/120 [==============================] - 162s 1s/step - loss: 0.4290 - accuracy: 0.8630\n",
            "Epoch 12/12\n",
            "120/120 [==============================] - 162s 1s/step - loss: 0.4095 - accuracy: 0.8691\n"
          ]
        },
        {
          "data": {
            "text/plain": [
              "<keras.callbacks.History at 0x7f0798738220>"
            ]
          },
          "execution_count": 32,
          "metadata": {},
          "output_type": "execute_result"
        }
      ],
      "source": [
        "\n",
        "model = Model([inpx], layer7)\n",
        "model.compile(optimizer=keras.optimizers.Adam(),\n",
        "              loss=keras.losses.categorical_crossentropy,\n",
        "              metrics=['accuracy'])\n",
        " \n",
        "model.fit(x_train, y_train, epochs=12, batch_size=500)"
      ]
    }
  ],
  "metadata": {
    "colab": {
      "provenance": [],
      "authorship_tag": "ABX9TyMJ2rOFg3HgedOOHUHJemIY",
      "include_colab_link": true
    },
    "kernelspec": {
      "display_name": "Python 3",
      "name": "python3"
    },
    "language_info": {
      "name": "python"
    }
  },
  "nbformat": 4,
  "nbformat_minor": 0
}